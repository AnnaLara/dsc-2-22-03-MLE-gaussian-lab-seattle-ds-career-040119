{
 "cells": [
  {
   "cell_type": "markdown",
   "metadata": {},
   "source": [
    "# MLE with Normal Distributions - Lab\n",
    "\n",
    "## Introduction\n",
    "\n",
    "In this lab, we shall put in practice, the mathematical formulas we saw in previous lesson to see how MLE works with normal distributions. \n",
    "\n",
    "## Objectives\n",
    "You will be able to:\n",
    "\n",
    "* Understand and describe how MLE works with normal distributions\n",
    "* Fit a normal distribution to given data identifying mean and variance\n",
    "* Visually compare the fitted distribution vs. real distribution\n"
   ]
  },
  {
   "cell_type": "markdown",
   "metadata": {},
   "source": [
    "**Note:** *A detailed derivation of all MLE equations with proofs can be seen [at this website](https://www.statlect.com/fundamentals-of-statistics/normal-distribution-maximum-likelihood). *\n",
    "\n",
    "## MLE in Python\n",
    "\n",
    "Let's see an example of MLE and distribution fittings with Python below. Here `scipy.stats.norm.fit` calculates the distribution parameters using Maximum Likelihood Estimation."
   ]
  },
  {
   "cell_type": "markdown",
   "metadata": {},
   "source": [
    "### Import necessary libraries"
   ]
  },
  {
   "cell_type": "code",
   "execution_count": 1,
   "metadata": {},
   "outputs": [],
   "source": [
    "from scipy.stats import norm # for generating sample data and fitting distributions\n",
    "import matplotlib.pyplot as plt\n",
    "plt.style.use('seaborn')\n",
    "import numpy as np"
   ]
  },
  {
   "cell_type": "markdown",
   "metadata": {},
   "source": [
    "### Generate an array of 200 random sample from a normal dist with mean 0 and stdv 1"
   ]
  },
  {
   "cell_type": "code",
   "execution_count": null,
   "metadata": {},
   "outputs": [],
   "source": [
    "sample = np.linspace(0, 1, 200)"
   ]
  },
  {
   "cell_type": "code",
   "execution_count": 4,
   "metadata": {},
   "outputs": [],
   "source": [
    "#sample"
   ]
  },
  {
   "cell_type": "markdown",
   "metadata": {},
   "source": [
    "### Distribution fitting through MLE\n",
    "#### -  Use `stats.norm.fit(data)` to fit a distribution to above data.\n",
    "#### - This returns a list of two parameters : (mean,: parameters[0] and std:  parameters[1]) via a MLE approach "
   ]
  },
  {
   "cell_type": "code",
   "execution_count": 17,
   "metadata": {},
   "outputs": [
    {
     "data": {
      "text/plain": [
       "(0.5000000000000001, 0.29012213681716326)"
      ]
     },
     "execution_count": 17,
     "metadata": {},
     "output_type": "execute_result"
    }
   ],
   "source": [
    "mu, sigma = norm.fit(sample)\n",
    "\n",
    "#param[0], param[1]\n",
    "# (0.08241224761452863, 1.002987490235812)\n",
    "\n",
    "mu, sigma"
   ]
  },
  {
   "cell_type": "markdown",
   "metadata": {},
   "source": [
    "### Calculate the PDF from a) actual data parameters b) fitted parameters with `x = np.linspace(-5,5,100)`"
   ]
  },
  {
   "cell_type": "code",
   "execution_count": 21,
   "metadata": {},
   "outputs": [],
   "source": [
    "x = np.linspace(-5,5,100)\n",
    "\n",
    "# Generate the pdf from fitted parameters (fitted distribution)\n",
    "fitted_pdf = norm.pdf(x, loc = mu,scale = sigma)\n",
    "# Generate the pdf without fitting (normal distribution non fitted)\n",
    "normal_pdf = norm.pdf(sample)"
   ]
  },
  {
   "cell_type": "code",
   "execution_count": 22,
   "metadata": {},
   "outputs": [
    {
     "data": {
      "text/plain": [
       "array([0.39894228, 0.39893724, 0.39892213, 0.39889695, 0.3988617 ,\n",
       "       0.39881637, 0.39876099, 0.39869554, 0.39862004, 0.39853449,\n",
       "       0.3984389 , 0.39833327, 0.39821761, 0.39809193, 0.39795624,\n",
       "       0.39781056, 0.39765488, 0.39748923, 0.39731362, 0.39712805,\n",
       "       0.39693255, 0.39672713, 0.3965118 , 0.39628657, 0.39605148,\n",
       "       0.39580653, 0.39555174, 0.39528714, 0.39501274, 0.39472856,\n",
       "       0.39443462, 0.39413095, 0.39381757, 0.3934945 , 0.39316177,\n",
       "       0.3928194 , 0.39246742, 0.39210585, 0.39173472, 0.39135406,\n",
       "       0.3909639 , 0.39056427, 0.39015519, 0.3897367 , 0.38930882,\n",
       "       0.3888716 , 0.38842506, 0.38796923, 0.38750415, 0.38702986,\n",
       "       0.38654639, 0.38605377, 0.38555205, 0.38504125, 0.38452142,\n",
       "       0.38399259, 0.38345481, 0.38290812, 0.38235254, 0.38178814,\n",
       "       0.38121493, 0.38063298, 0.38004232, 0.379443  , 0.37883505,\n",
       "       0.37821852, 0.37759347, 0.37695993, 0.37631794, 0.37566757,\n",
       "       0.37500885, 0.37434183, 0.37366656, 0.37298309, 0.37229147,\n",
       "       0.37159175, 0.37088398, 0.37016821, 0.36944449, 0.36871288,\n",
       "       0.36797342, 0.36722617, 0.36647119, 0.36570852, 0.36493822,\n",
       "       0.36416035, 0.36337497, 0.36258212, 0.36178186, 0.36097426,\n",
       "       0.36015936, 0.35933723, 0.35850792, 0.3576715 , 0.35682801,\n",
       "       0.35597753, 0.3551201 , 0.3542558 , 0.35338467, 0.35250679,\n",
       "       0.3516222 , 0.35073098, 0.34983319, 0.34892888, 0.34801812,\n",
       "       0.34710097, 0.3461775 , 0.34524776, 0.34431183, 0.34336977,\n",
       "       0.34242163, 0.3414675 , 0.34050742, 0.33954146, 0.3385697 ,\n",
       "       0.33759219, 0.33660901, 0.33562021, 0.33462587, 0.33362605,\n",
       "       0.33262082, 0.33161024, 0.33059438, 0.32957332, 0.32854711,\n",
       "       0.32751582, 0.32647953, 0.3254383 , 0.3243922 , 0.3233413 ,\n",
       "       0.32228566, 0.32122536, 0.32016046, 0.31909103, 0.31801715,\n",
       "       0.31693887, 0.31585628, 0.31476943, 0.3136784 , 0.31258327,\n",
       "       0.31148409, 0.31038093, 0.30927388, 0.30816299, 0.30704833,\n",
       "       0.30592999, 0.30480802, 0.30368249, 0.30255349, 0.30142106,\n",
       "       0.3002853 , 0.29914626, 0.29800401, 0.29685863, 0.29571018,\n",
       "       0.29455874, 0.29340438, 0.29224715, 0.29108714, 0.28992442,\n",
       "       0.28875904, 0.28759109, 0.28642063, 0.28524773, 0.28407246,\n",
       "       0.28289489, 0.28171509, 0.28053312, 0.27934906, 0.27816297,\n",
       "       0.27697492, 0.27578499, 0.27459323, 0.27339971, 0.27220451,\n",
       "       0.2710077 , 0.26980933, 0.26860947, 0.2674082 , 0.26620558,\n",
       "       0.26500168, 0.26379656, 0.26259029, 0.26138293, 0.26017456,\n",
       "       0.25896523, 0.25775502, 0.25654398, 0.25533219, 0.2541197 ,\n",
       "       0.25290658, 0.2516929 , 0.25047872, 0.2492641 , 0.2480491 ,\n",
       "       0.2468338 , 0.24561825, 0.24440251, 0.24318665, 0.24197072])"
      ]
     },
     "execution_count": 22,
     "metadata": {},
     "output_type": "execute_result"
    }
   ],
   "source": [
    "normal_pdf"
   ]
  },
  {
   "cell_type": "markdown",
   "metadata": {},
   "source": [
    "### Visualize both PDFs "
   ]
  },
  {
   "cell_type": "code",
   "execution_count": 24,
   "metadata": {},
   "outputs": [
    {
     "data": {
      "image/png": "[encoded data removed]",
      "text/plain": [
       "<Figure size 432x288 with 1 Axes>"
      ]
     },
     "metadata": {
      "needs_background": "light"
     },
     "output_type": "display_data"
    }
   ],
   "source": [
    "# Your code here \n",
    "plt.plot(x, fitted_pdf)\n",
    "plt.plot(sample, normal_pdf)\n",
    "plt.hist(x)\n",
    "plt.show()"
   ]
  },
  {
   "cell_type": "code",
   "execution_count": 8,
   "metadata": {},
   "outputs": [],
   "source": [
    "#  Your comments/observations"
   ]
  },
  {
   "cell_type": "markdown",
   "metadata": {},
   "source": [
    "## Summary "
   ]
  },
  {
   "cell_type": "markdown",
   "metadata": {},
   "source": [
    "In this short lab, we looked at Bayesian setting in a Gaussian context i.e. when the underlying random variables are normally distributed. We learned that MLE can estimate the unknown parameters of a normal distribution, by maximizing the likelihood of expected mean. The expected mean comes very close to the mean of a non-fitted normal distribution within that parameter space. We shall move ahead with this understanding towards learning how such estimations are performed in estimating means of a number of classes present in the data distribution using Naive Bayes Classifier."
   ]
  }
 ],
 "metadata": {
  "kernelspec": {
   "display_name": "Python 3",
   "language": "python",
   "name": "python3"
  },
  "language_info": {
   "codemirror_mode": {
    "name": "ipython",
    "version": 3
   },
   "file_extension": ".py",
   "mimetype": "text/x-python",
   "name": "python",
   "nbconvert_exporter": "python",
   "pygments_lexer": "ipython3",
   "version": "3.6.6"
  }
 },
 "nbformat": 4,
 "nbformat_minor": 2
}
