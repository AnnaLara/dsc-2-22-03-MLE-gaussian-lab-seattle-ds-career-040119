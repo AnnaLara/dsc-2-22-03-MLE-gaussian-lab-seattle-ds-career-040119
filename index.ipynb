{
 "cells": [
  {
   "cell_type": "markdown",
   "metadata": {},
   "source": [
    "# MLE with Normal Distributions - Lab\n",
    "\n",
    "## Introduction\n",
    "\n",
    "In this lab, we shall put in practice, the mathematical formulas we saw in previous lesson to see how MLE works with normal distributions. \n",
    "\n",
    "## Objectives\n",
    "You will be able to:\n",
    "\n",
    "* Understand and describe how MLE works with normal distributions\n",
    "* Fit a normal distribution to given data identifying mean and variance\n",
    "* Visually compare the fitted distribution vs. real distribution\n"
   ]
  },
  {
   "cell_type": "markdown",
   "metadata": {},
   "source": [
    "**Note:** *A detailed derivation of all MLE equations with proofs can be seen [at this website](https://www.statlect.com/fundamentals-of-statistics/normal-distribution-maximum-likelihood). *\n",
    "\n",
    "## MLE in Python\n",
    "\n",
    "Let's see an example of MLE and distribution fittings with Python below. Here `scipy.stats.norm.fit` calculates the distribution parameters using Maximum Likelihood Estimation."
   ]
  },
  {
   "cell_type": "markdown",
   "metadata": {},
   "source": [
    "### Import necessary libraries"
   ]
  },
  {
   "cell_type": "code",
   "execution_count": 1,
   "metadata": {},
   "outputs": [],
   "source": [
    "from scipy.stats import norm # for generating sample data and fitting distributions\n",
    "import matplotlib.pyplot as plt\n",
    "plt.style.use('seaborn')\n",
    "import numpy as np"
   ]
  },
  {
   "cell_type": "markdown",
   "metadata": {},
   "source": [
    "### Generate an array of 200 random sample from a normal dist with mean 0 and stdv 1"
   ]
  },
  {
   "cell_type": "code",
   "execution_count": 25,
   "metadata": {},
   "outputs": [],
   "source": [
    "sample = norm.rvs(loc=0,scale=1,size=200)"
   ]
  },
  {
   "cell_type": "code",
   "execution_count": 26,
   "metadata": {},
   "outputs": [],
   "source": [
    "#sample"
   ]
  },
  {
   "cell_type": "markdown",
   "metadata": {},
   "source": [
    "### Distribution fitting through MLE\n",
    "#### -  Use `stats.norm.fit(data)` to fit a distribution to above data.\n",
    "#### - This returns a list of two parameters : (mean,: parameters[0] and std:  parameters[1]) via a MLE approach "
   ]
  },
  {
   "cell_type": "code",
   "execution_count": 27,
   "metadata": {},
   "outputs": [
    {
     "data": {
      "text/plain": [
       "(-0.09358062417650771, 0.993297271353271)"
      ]
     },
     "execution_count": 27,
     "metadata": {},
     "output_type": "execute_result"
    }
   ],
   "source": [
    "mu, sigma = norm.fit(sample)\n",
    "\n",
    "#param[0], param[1]\n",
    "# (0.08241224761452863, 1.002987490235812)\n",
    "\n",
    "mu, sigma"
   ]
  },
  {
   "cell_type": "markdown",
   "metadata": {},
   "source": [
    "### Calculate the PDF from a) actual data parameters b) fitted parameters with `x = np.linspace(-5,5,100)`"
   ]
  },
  {
   "cell_type": "code",
   "execution_count": 28,
   "metadata": {},
   "outputs": [],
   "source": [
    "x = np.linspace(-5,5,100)\n",
    "\n",
    "# Generate the pdf from fitted parameters (fitted distribution)\n",
    "fitted_pdf = norm.pdf(x, loc = mu,scale = sigma)\n",
    "# Generate the pdf without fitting (normal distribution non fitted)\n",
    "normal_pdf = norm.pdf(x)\n"
   ]
  },
  {
   "cell_type": "code",
   "execution_count": 29,
   "metadata": {},
   "outputs": [
    {
     "data": {
      "text/plain": [
       "array([1.48671951e-06, 2.45106104e-06, 3.99989037e-06, 6.46116639e-06,\n",
       "       1.03310066e-05, 1.63509589e-05, 2.56160812e-05, 3.97238224e-05,\n",
       "       6.09759040e-05, 9.26476353e-05, 1.39341123e-04, 2.07440309e-04,\n",
       "       3.05686225e-04, 4.45889725e-04, 6.43795498e-04, 9.20104770e-04,\n",
       "       1.30165384e-03, 1.82273110e-03, 2.52649578e-03, 3.46643792e-03,\n",
       "       4.70779076e-03, 6.32877643e-03, 8.42153448e-03, 1.10925548e-02,\n",
       "       1.44624148e-02, 1.86646099e-02, 2.38432745e-02, 3.01496139e-02,\n",
       "       3.77369231e-02, 4.67541424e-02, 5.73380051e-02, 6.96039584e-02,\n",
       "       8.36361772e-02, 9.94771388e-02, 1.17117360e-01, 1.36486009e-01,\n",
       "       1.57443188e-01, 1.79774665e-01, 2.03189836e-01, 2.27323506e-01,\n",
       "       2.51741947e-01, 2.75953371e-01, 2.99422683e-01, 3.21590023e-01,\n",
       "       3.41892294e-01, 3.59786558e-01, 3.74773979e-01, 3.86422853e-01,\n",
       "       3.94389234e-01, 3.98433802e-01, 3.98433802e-01, 3.94389234e-01,\n",
       "       3.86422853e-01, 3.74773979e-01, 3.59786558e-01, 3.41892294e-01,\n",
       "       3.21590023e-01, 2.99422683e-01, 2.75953371e-01, 2.51741947e-01,\n",
       "       2.27323506e-01, 2.03189836e-01, 1.79774665e-01, 1.57443188e-01,\n",
       "       1.36486009e-01, 1.17117360e-01, 9.94771388e-02, 8.36361772e-02,\n",
       "       6.96039584e-02, 5.73380051e-02, 4.67541424e-02, 3.77369231e-02,\n",
       "       3.01496139e-02, 2.38432745e-02, 1.86646099e-02, 1.44624148e-02,\n",
       "       1.10925548e-02, 8.42153448e-03, 6.32877643e-03, 4.70779076e-03,\n",
       "       3.46643792e-03, 2.52649578e-03, 1.82273110e-03, 1.30165384e-03,\n",
       "       9.20104770e-04, 6.43795498e-04, 4.45889725e-04, 3.05686225e-04,\n",
       "       2.07440309e-04, 1.39341123e-04, 9.26476353e-05, 6.09759040e-05,\n",
       "       3.97238224e-05, 2.56160812e-05, 1.63509589e-05, 1.03310066e-05,\n",
       "       6.46116639e-06, 3.99989037e-06, 2.45106104e-06, 1.48671951e-06])"
      ]
     },
     "execution_count": 29,
     "metadata": {},
     "output_type": "execute_result"
    }
   ],
   "source": [
    "normal_pdf"
   ]
  },
  {
   "cell_type": "markdown",
   "metadata": {},
   "source": [
    "### Visualize both PDFs "
   ]
  },
  {
   "cell_type": "code",
   "execution_count": 30,
   "metadata": {},
   "outputs": [
    {
     "data": {
      "image/png": "[encoded data removed]",
      "text/plain": [
       "<Figure size 432x288 with 1 Axes>"
      ]
     },
     "metadata": {
      "needs_background": "light"
     },
     "output_type": "display_data"
    }
   ],
   "source": [
    "# Your code here \n",
    "plt.plot(x, fitted_pdf)\n",
    "plt.plot(x, normal_pdf)\n",
    "plt.hist(x)\n",
    "plt.show()"
   ]
  },
  {
   "cell_type": "code",
   "execution_count": 8,
   "metadata": {},
   "outputs": [],
   "source": [
    "#  Your comments/observations"
   ]
  },
  {
   "cell_type": "markdown",
   "metadata": {},
   "source": [
    "## Summary "
   ]
  },
  {
   "cell_type": "markdown",
   "metadata": {},
   "source": [
    "In this short lab, we looked at Bayesian setting in a Gaussian context i.e. when the underlying random variables are normally distributed. We learned that MLE can estimate the unknown parameters of a normal distribution, by maximizing the likelihood of expected mean. The expected mean comes very close to the mean of a non-fitted normal distribution within that parameter space. We shall move ahead with this understanding towards learning how such estimations are performed in estimating means of a number of classes present in the data distribution using Naive Bayes Classifier."
   ]
  }
 ],
 "metadata": {
  "kernelspec": {
   "display_name": "Python 3",
   "language": "python",
   "name": "python3"
  },
  "language_info": {
   "codemirror_mode": {
    "name": "ipython",
    "version": 3
   },
   "file_extension": ".py",
   "mimetype": "text/x-python",
   "name": "python",
   "nbconvert_exporter": "python",
   "pygments_lexer": "ipython3",
   "version": "3.6.6"
  }
 },
 "nbformat": 4,
 "nbformat_minor": 2
}
